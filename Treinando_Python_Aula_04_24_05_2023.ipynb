{
  "nbformat": 4,
  "nbformat_minor": 0,
  "metadata": {
    "colab": {
      "provenance": [],
      "authorship_tag": "ABX9TyOCvUrabJuD+8ATUIW6tm3r",
      "include_colab_link": true
    },
    "kernelspec": {
      "name": "python3",
      "display_name": "Python 3"
    },
    "language_info": {
      "name": "python"
    }
  },
  "cells": [
    {
      "cell_type": "markdown",
      "metadata": {
        "id": "view-in-github",
        "colab_type": "text"
      },
      "source": [
        "<a href=\"https://colab.research.google.com/github/ualeson/Aprendendo_python/blob/main/Treinando_Python_Aula_04_24_05_2023.ipynb\" target=\"_parent\"><img src=\"https://colab.research.google.com/assets/colab-badge.svg\" alt=\"Open In Colab\"/></a>"
      ]
    },
    {
      "cell_type": "markdown",
      "source": [
        "## **Aula 4: Manipulação de Arquivos**"
      ],
      "metadata": {
        "id": "iiQamInQdJ-i"
      }
    },
    {
      "cell_type": "markdown",
      "source": [
        "Para trabalhar com arquivos, primeiro é necessário abrir o arquivo para realizar as operações desejadas e, em seguida, fechá-lo quando terminar.\n",
        "\n",
        "Vejamos como abrir e fechar um arquivo em Python:"
      ],
      "metadata": {
        "id": "z9wQpzN2ezyv"
      }
    },
    {
      "cell_type": "code",
      "execution_count": null,
      "metadata": {
        "id": "8dLeob6Ic_rp"
      },
      "outputs": [],
      "source": [
        "#@title 1. Abrindo e Fechando Arquivos:\n",
        "\n",
        "# Abrindo um arquivo para leitura\n",
        "arquivo = open(\"arquivo.txt\", \"r\")\n",
        "\n",
        "# Realize as operações desejadas com o arquivo\n",
        "\n",
        "# Fechando o arquivo\n",
        "arquivo.close()\n"
      ]
    },
    {
      "cell_type": "markdown",
      "source": [
        "Ao abrir um arquivo, é necessário especificar o modo de abertura desejado, como leitura, gravação ou anexação.\n",
        "\n",
        "Os modos de abertura de arquivo mais comuns são:\n",
        "\n",
        "\"r\": leitura - abre o arquivo para leitura (padrão).\n",
        "\"w\": gravação - abre o arquivo para gravação, sobrescrevendo o conteúdo existente.\n",
        "\"a\": anexação - abre o arquivo para anexação, adicionando conteúdo ao final do arquivo.\n",
        "Vejamos exemplos:"
      ],
      "metadata": {
        "id": "WizacZlGe6D8"
      }
    },
    {
      "cell_type": "code",
      "source": [
        "#@title 2. Modos de Abertura de Arquivo:\n",
        "\n",
        "# Abrindo um arquivo para leitura\n",
        "arquivo_leitura = open(\"arquivo.txt\", \"r\")\n",
        "\n",
        "# Abrindo um arquivo para gravação\n",
        "arquivo_gravacao = open(\"arquivo.txt\", \"w\")\n",
        "\n",
        "# Abrindo um arquivo para anexação\n",
        "arquivo_anexo = open(\"arquivo.txt\", \"a\")\n"
      ],
      "metadata": {
        "id": "ER-7wCbrdzbu"
      },
      "execution_count": null,
      "outputs": []
    },
    {
      "cell_type": "markdown",
      "source": [
        "Após abrir um arquivo para leitura, é possível ler o seu conteúdo utilizando os métodos read(), readline() ou readlines().\n",
        "\n",
        "Vejamos exemplos:"
      ],
      "metadata": {
        "id": "zCHXl56nfAf9"
      }
    },
    {
      "cell_type": "code",
      "source": [
        "#@title 3. Leitura de Arquivos:\n",
        "\n",
        "# Lendo o conteúdo completo do arquivo\n",
        "conteudo = arquivo_leitura.read()\n",
        "print(conteudo)\n",
        "\n",
        "# Lendo uma linha do arquivo\n",
        "linha = arquivo_leitura.readline()\n",
        "print(linha)\n",
        "\n",
        "# Lendo todas as linhas do arquivo e armazenando em uma lista\n",
        "linhas = arquivo_leitura.readlines()\n",
        "print(linhas)\n"
      ],
      "metadata": {
        "id": "Z7Y_7vCBd8yd"
      },
      "execution_count": null,
      "outputs": []
    },
    {
      "cell_type": "markdown",
      "source": [
        "Após abrir um arquivo para gravação ou anexação, é possível escrever conteúdo no arquivo utilizando o método write().\n",
        "\n",
        "Vejamos exemplos:"
      ],
      "metadata": {
        "id": "lTY4Fa_lfQ-c"
      }
    },
    {
      "cell_type": "code",
      "source": [
        "#@title 4. Escrita em Arquivos:\n",
        "\n",
        "# Gravando conteúdo no arquivo\n",
        "arquivo_gravacao.write(\"Olá, mundo!\")\n",
        "\n",
        "# Anexando conteúdo ao arquivo\n",
        "arquivo_anexo.write(\"Novo conteúdo.\")\n"
      ],
      "metadata": {
        "id": "6ys0ARK_eBLA"
      },
      "execution_count": null,
      "outputs": []
    },
    {
      "cell_type": "markdown",
      "source": [
        "É possível iterar sobre as linhas de um arquivo utilizando um loop for.\n",
        "\n",
        "Isso permite processar cada linha do arquivo individualmente.\n",
        "\n",
        "Vejamos um exemplo:"
      ],
      "metadata": {
        "id": "2bBxIdcbfUg7"
      }
    },
    {
      "cell_type": "code",
      "source": [
        "#@title 5. Iteração em Arquivos:\n",
        "\n",
        "# Iterando sobre as linhas do arquivo\n",
        "for linha in arquivo_leitura:\n",
        "    print(linha)\n"
      ],
      "metadata": {
        "id": "VyeUtF4ieGxH"
      },
      "execution_count": null,
      "outputs": []
    },
    {
      "cell_type": "markdown",
      "source": [
        "Ao ler ou escrever em um arquivo, um ponteiro é usado para rastrear a posição atual dentro do arquivo.\n",
        "\n",
        "O ponteiro é movido automaticamente durante as operações de leitura e gravação.\n",
        "\n",
        "É possível usar o método seek() para mover o ponteiro para uma posição específica no arquivo.\n",
        "\n",
        "Vejamos exemplos:"
      ],
      "metadata": {
        "id": "tWnS9P-FfXHb"
      }
    },
    {
      "cell_type": "code",
      "source": [
        "#@title 6. Manipulação de Ponteiro de Arquivo:\n",
        "\n",
        "# Movendo o ponteiro para o início do arquivo\n",
        "arquivo.seek(0)\n",
        "\n",
        "# Movendo o ponteiro para a posição 10\n",
        "arquivo.seek(10)\n"
      ],
      "metadata": {
        "id": "-i19HMnWeMR_"
      },
      "execution_count": null,
      "outputs": []
    },
    {
      "cell_type": "markdown",
      "source": [
        "Ao manipular arquivos, é importante lidar com possíveis erros que podem ocorrer, como arquivos não encontrados ou permissões insuficientes.\n",
        "\n",
        "Isso pode ser feito utilizando blocos de código try-except para capturar e tratar exceções.\n",
        "\n",
        "Vejamos um exemplo:"
      ],
      "metadata": {
        "id": "UXHdw3WBfbxb"
      }
    },
    {
      "cell_type": "code",
      "source": [
        "#@title 7. Tratamento de Exceções ao Manipular Arquivos:\n",
        "\n",
        "try:\n",
        "    arquivo = open(\"arquivo.txt\", \"r\")\n",
        "    # Realize as operações desejadas com o arquivo\n",
        "except FileNotFoundError:\n",
        "    print(\"Arquivo não encontrado.\")\n",
        "except PermissionError:\n",
        "    print(\"Permissão insuficiente para acessar o arquivo.\")\n",
        "finally:\n",
        "    arquivo.close()"
      ],
      "metadata": {
        "id": "Cd9Z8CFxdgQL"
      },
      "execution_count": null,
      "outputs": []
    },
    {
      "cell_type": "markdown",
      "source": [
        "# **Exercícios Práticos:**\n",
        "\n",
        "Agora que você aprendeu sobre manipulação de arquivos, aqui estão alguns exercícios para praticar:\n",
        "\n",
        "Crie um programa que leia o conteúdo de um arquivo de texto e imprima na tela.\n",
        "Escreva um programa que solicite ao usuário uma frase e grave essa frase em um arquivo de texto.\n",
        "Crie uma função que receba o nome de um arquivo como parâmetro e conte o número de palavras no arquivo.\n",
        "Escreva um programa que leia um arquivo CSV (Comma Separated Values) e imprima o conteúdo formatado.\n",
        "Crie uma função que receba o nome de um arquivo de texto como parâmetro e retorne uma lista com as palavras do arquivo em ordem alfabética.\n",
        "Pratique resolvendo esses exercícios e experimente criar seus próprios desafios envolvendo a manipulação de arquivos em Python. Se tiver alguma dúvida ou precisar de mais explicações, não hesite em perguntar."
      ],
      "metadata": {
        "id": "AXbBr7wzgBk9"
      }
    },
    {
      "cell_type": "code",
      "source": [
        "#@title Realizando o teste de leitura de arquivo.\n",
        "\n",
        "try:\n",
        "\n",
        "  teste = open(\"arquivo_teste_python.txt\", \"r\")\n",
        "  dados_arquivo = teste.read()\n",
        "  print(dados_arquivo)\n",
        "\n",
        "except FileNotFoundError:\n",
        "\n",
        "  print(\"Arquivo não encontrado.\")\n",
        "\n",
        "finally:\n",
        "\n",
        "    teste.close()\n"
      ],
      "metadata": {
        "colab": {
          "base_uri": "https://localhost:8080/"
        },
        "id": "tzsCA95Tdkt8",
        "outputId": "44b2b63b-7428-4056-d30d-ba81102f4854"
      },
      "execution_count": null,
      "outputs": [
        {
          "output_type": "stream",
          "name": "stdout",
          "text": [
            "01245\n",
            "15456\n",
            "54564\n",
            "54545\n",
            "51451\n",
            "44454\n",
            "54891\n"
          ]
        }
      ]
    },
    {
      "cell_type": "code",
      "source": [
        "# Função para adicionar um novo aluno ao sistema\n",
        "def adicionar_aluno():\n",
        "    nome = input(\"Digite o nome do aluno: \")\n",
        "    idade = input(\"Digite a idade do aluno: \")\n",
        "    # Outros dados do aluno podem ser solicitados aqui\n",
        "\n",
        "    # Adicionar o aluno à lista de alunos\n",
        "    aluno = {'Nome': nome, 'Idade': idade}\n",
        "    alunos.append(aluno)\n",
        "    print(\"Aluno adicionado com sucesso!\")\n",
        "\n",
        "# Função para visualizar a lista de alunos cadastrados\n",
        "def visualizar_alunos():\n",
        "    if len(alunos) == 0:\n",
        "        print(\"Nenhum aluno cadastrado.\")\n",
        "    else:\n",
        "        for aluno in alunos:\n",
        "            print(f\"Nome: {aluno['Nome']}, Idade: {aluno['Idade']}\")\n",
        "            # Outros dados do aluno podem ser exibidos aqui\n",
        "\n",
        "# Função para gravar a lista de alunos em um arquivo de texto\n",
        "def gravar_alunos():\n",
        "    with open('alunos.txt', 'w') as arquivo:\n",
        "        for aluno in alunos:\n",
        "            arquivo.write(f\"{aluno['Nome']},{aluno['Idade']}\\n\")\n",
        "            # Outros dados do aluno podem ser gravados aqui\n",
        "\n",
        "# Função para ler a lista de alunos a partir do arquivo de texto\n",
        "def ler_alunos():\n",
        "    alunos.clear()\n",
        "    try:\n",
        "        with open('alunos.txt', 'r') as arquivo:\n",
        "            linhas = arquivo.readlines()\n",
        "            for linha in linhas:\n",
        "                dados = linha.strip().split(',')\n",
        "                aluno = {'Nome': dados[0], 'Idade': dados[1]}\n",
        "                alunos.append(aluno)\n",
        "        print(\"Lista de alunos carregada do arquivo com sucesso!\")\n",
        "    except FileNotFoundError:\n",
        "        print(\"Arquivo de alunos não encontrado.\")\n",
        "\n",
        "# Lista de alunos\n",
        "alunos = []\n",
        "\n",
        "# Menu de opções\n",
        "while True:\n",
        "    print(\"\\n=== Sistema de Cadastro de Alunos ===\")\n",
        "    print(\"1 - Adicionar aluno\")\n",
        "    print(\"2 - Visualizar alunos cadastrados\")\n",
        "    print(\"3 - Gravar lista de alunos em arquivo\")\n",
        "    print(\"4 - Carregar lista de alunos do arquivo\")\n",
        "    print(\"0 - Sair do programa\")\n",
        "\n",
        "    opcao = input(\"Digite a opção desejada: \")\n",
        "\n",
        "    if opcao == '1':\n",
        "        adicionar_aluno()\n",
        "    elif opcao == '2':\n",
        "        visualizar_alunos()\n",
        "    elif opcao == '3':\n",
        "        gravar_alunos()\n",
        "    elif opcao == '4':\n",
        "        ler_alunos()\n",
        "    elif opcao == '0':\n",
        "        break\n",
        "    else:\n",
        "        print(\"Opção inválida. Digite novamente.\")\n"
      ],
      "metadata": {
        "colab": {
          "base_uri": "https://localhost:8080/"
        },
        "id": "Ng4LiSPxoBP6",
        "outputId": "ace2ad05-3f6c-449c-83ee-8808d8aea572"
      },
      "execution_count": null,
      "outputs": [
        {
          "name": "stdout",
          "output_type": "stream",
          "text": [
            "\n",
            "=== Sistema de Cadastro de Alunos ===\n",
            "1 - Adicionar aluno\n",
            "2 - Visualizar alunos cadastrados\n",
            "3 - Gravar lista de alunos em arquivo\n",
            "4 - Carregar lista de alunos do arquivo\n",
            "0 - Sair do programa\n",
            "Digite a opção desejada: 4\n",
            "Lista de alunos carregada do arquivo com sucesso!\n",
            "\n",
            "=== Sistema de Cadastro de Alunos ===\n",
            "1 - Adicionar aluno\n",
            "2 - Visualizar alunos cadastrados\n",
            "3 - Gravar lista de alunos em arquivo\n",
            "4 - Carregar lista de alunos do arquivo\n",
            "0 - Sair do programa\n",
            "Digite a opção desejada: 2\n",
            "Nome: Ualeson, Idade: 33\n",
            "Nome: Ana, Idade:  25\n",
            "\n",
            "=== Sistema de Cadastro de Alunos ===\n",
            "1 - Adicionar aluno\n",
            "2 - Visualizar alunos cadastrados\n",
            "3 - Gravar lista de alunos em arquivo\n",
            "4 - Carregar lista de alunos do arquivo\n",
            "0 - Sair do programa\n",
            "Digite a opção desejada: 0\n"
          ]
        }
      ]
    },
    {
      "cell_type": "code",
      "source": [
        "# Função para adicionar os alunos num dicionário\n",
        "def adicionar_aluno(lista_alunos):\n",
        "    nome = input(\"Nome completo do aluno: \")\n",
        "    matricula = input(\"Matrícula do aluno: \")\n",
        "    curso = input(\"Curso do aluno: \")\n",
        "    ano_ingresso = input(\"Ano de ingresso do aluno: \")\n",
        "    aluno = {\n",
        "        \"Nome\": nome,\n",
        "        \"Matrícula\": matricula,\n",
        "        \"Curso\": curso,\n",
        "        \"Ano de Ingresso\": ano_ingresso\n",
        "    }\n",
        "    lista_alunos.append(aluno)\n",
        "    print(\"Aluno adicionado com sucesso!\")\n",
        "\n",
        "# \n",
        "def visualizar_alunos(lista_alunos):\n",
        "    if len(lista_alunos) == 0:\n",
        "        print(\"Nenhum aluno cadastrado.\")\n",
        "    else:\n",
        "        print(\"Lista de Alunos:\")\n",
        "        for aluno in lista_alunos:\n",
        "            print(\"-\" * 30)\n",
        "            for chave, valor in aluno.items():\n",
        "                print(f\"{chave}: {valor}\")\n",
        "\n",
        "def gravar_alunos(lista_alunos):\n",
        "    nome_arquivo = input(\"Digite o nome do arquivo para gravar a lista de alunos: \")\n",
        "    try:\n",
        "        with open(nome_arquivo, \"w\") as arquivo:\n",
        "            for aluno in lista_alunos:\n",
        "                for chave, valor in aluno.items():\n",
        "                    arquivo.write(f\"{chave}: {valor}\\n\")\n",
        "                arquivo.write(\"-\" * 30 + \"\\n\")\n",
        "        print(\"Lista de alunos gravada com sucesso!\")\n",
        "    except Exception as e:\n",
        "        print(f\"Erro ao gravar a lista de alunos: {str(e)}\")\n",
        "\n",
        "def ler_alunos():\n",
        "    nome_arquivo = input(\"Digite o nome do arquivo para ler a lista de alunos: \")\n",
        "    try:\n",
        "        with open(nome_arquivo, \"r\") as arquivo:\n",
        "            conteudo = arquivo.read()\n",
        "            print(conteudo)\n",
        "    except FileNotFoundError:\n",
        "        print(\"Arquivo não encontrado.\")\n",
        "    except Exception as e:\n",
        "        print(f\"Erro ao ler a lista de alunos: {str(e)}\")\n",
        "\n",
        "def exibir_menu():\n",
        "    print(\"\\nMenu de Opções:\")\n",
        "    print(\"a) Adicionar aluno\")\n",
        "    print(\"b) Visualizar lista de alunos\")\n",
        "    print(\"c) Gravar lista de alunos em arquivo\")\n",
        "    print(\"d) Ler lista de alunos do arquivo\")\n",
        "    print(\"e) Sair do programa\")\n",
        "\n",
        "#def sair_programa():\n",
        "#    print(\"Encerrando o programa. Até logo!\")\n",
        "#    exit()\n",
        "\n",
        "lista_alunos = []\n",
        "\n",
        "while True:\n",
        "    exibir_menu()\n",
        "    opcao = input(\"Digite a opção desejada: \")\n",
        "\n",
        "    if opcao == \"a\":\n",
        "        adicionar_aluno(lista_alunos)\n",
        "    elif opcao == \"b\":\n",
        "        visualizar_alunos(lista_alunos)\n",
        "    elif opcao == \"c\":\n",
        "        gravar_alunos(lista_alunos)\n",
        "    elif opcao == \"d\":\n",
        "        ler_alunos()\n",
        "    elif opcao == \"e\":\n",
        "        break\n",
        "    else:\n",
        "        print(\"Opção inválida. Digite novamente.\")\n"
      ],
      "metadata": {
        "colab": {
          "base_uri": "https://localhost:8080/"
        },
        "id": "30EZEVO6q26I",
        "outputId": "ed61b7fe-5212-4071-9bcc-30a185976914"
      },
      "execution_count": 1,
      "outputs": [
        {
          "name": "stdout",
          "output_type": "stream",
          "text": [
            "\n",
            "Menu de Opções:\n",
            "a) Adicionar aluno\n",
            "b) Visualizar lista de alunos\n",
            "c) Gravar lista de alunos em arquivo\n",
            "d) Ler lista de alunos do arquivo\n",
            "e) Sair do programa\n",
            "Digite a opção desejada: a\n",
            "Nome completo do aluno: William\n",
            "Matrícula do aluno: 12345\n",
            "Curso do aluno: Analista de Sistemas\n",
            "Ano de ingresso do aluno: 2023\n",
            "Aluno adicionado com sucesso!\n",
            "\n",
            "Menu de Opções:\n",
            "a) Adicionar aluno\n",
            "b) Visualizar lista de alunos\n",
            "c) Gravar lista de alunos em arquivo\n",
            "d) Ler lista de alunos do arquivo\n",
            "e) Sair do programa\n",
            "Digite a opção desejada: a\n",
            "Nome completo do aluno: Alisson\n",
            "Matrícula do aluno: 54321\n",
            "Curso do aluno: Ciência da Computação\n",
            "Ano de ingresso do aluno: 2023\n",
            "Aluno adicionado com sucesso!\n",
            "\n",
            "Menu de Opções:\n",
            "a) Adicionar aluno\n",
            "b) Visualizar lista de alunos\n",
            "c) Gravar lista de alunos em arquivo\n",
            "d) Ler lista de alunos do arquivo\n",
            "e) Sair do programa\n",
            "Digite a opção desejada: c\n",
            "Digite o nome do arquivo para gravar a lista de alunos: Alunos_2023.txt\n",
            "Lista de alunos gravada com sucesso!\n",
            "\n",
            "Menu de Opções:\n",
            "a) Adicionar aluno\n",
            "b) Visualizar lista de alunos\n",
            "c) Gravar lista de alunos em arquivo\n",
            "d) Ler lista de alunos do arquivo\n",
            "e) Sair do programa\n",
            "Digite a opção desejada: d\n",
            "Digite o nome do arquivo para ler a lista de alunos: Alunos_2023.txt\n",
            "Nome: William\n",
            "Matrícula: 12345\n",
            "Curso: Analista de Sistemas\n",
            "Ano de Ingresso: 2023\n",
            "------------------------------\n",
            "Nome: Alisson\n",
            "Matrícula: 54321\n",
            "Curso: Ciência da Computação\n",
            "Ano de Ingresso: 2023\n",
            "------------------------------\n",
            "\n",
            "\n",
            "Menu de Opções:\n",
            "a) Adicionar aluno\n",
            "b) Visualizar lista de alunos\n",
            "c) Gravar lista de alunos em arquivo\n",
            "d) Ler lista de alunos do arquivo\n",
            "e) Sair do programa\n",
            "Digite a opção desejada: b\n",
            "Lista de Alunos:\n",
            "------------------------------\n",
            "Nome: William\n",
            "Matrícula: 12345\n",
            "Curso: Analista de Sistemas\n",
            "Ano de Ingresso: 2023\n",
            "------------------------------\n",
            "Nome: Alisson\n",
            "Matrícula: 54321\n",
            "Curso: Ciência da Computação\n",
            "Ano de Ingresso: 2023\n",
            "\n",
            "Menu de Opções:\n",
            "a) Adicionar aluno\n",
            "b) Visualizar lista de alunos\n",
            "c) Gravar lista de alunos em arquivo\n",
            "d) Ler lista de alunos do arquivo\n",
            "e) Sair do programa\n",
            "Digite a opção desejada: e\n"
          ]
        }
      ]
    },
    {
      "cell_type": "code",
      "source": [
        "#numeros = (0, 1, 2, 3, 4, 5, 6)\n",
        "#tamanho = len(numeros)\n",
        "#print(nova_tupla)\n",
        "\n",
        "#nova_tupla = numeros + (4, 5)\n",
        "\n",
        "#nova_tupla = numeros[0:6]\n",
        "\n",
        "\n",
        "\n",
        "#print(nova_tupla)\n",
        "\n",
        "\n",
        "# Tupla\n",
        "coordenadas = (10, 20, 30)\n",
        "novoelemento = coordenadas + (40, 50)\n",
        "x, y, g = coordenadas\n",
        "print(novoelemento)\n",
        "print(x)  # Saída: 10\n",
        "print(y)  # Saída: 20\n",
        "print(g)  # Saída: 30\n",
        "\n",
        "\n",
        "# Lista\n",
        "cores = [\"vermelho\", \"verde\", \"azul\"]\n",
        "cores.append(\"amarelo\")\n",
        "print(\"\\n\", cores)  # Saída: [\"vermelho\", \"verde\", \"azul\", \"amarelo\"]"
      ],
      "metadata": {
        "colab": {
          "base_uri": "https://localhost:8080/"
        },
        "id": "n5_eWeV6I_yq",
        "outputId": "b8a31552-e391-4b84-8374-898d3577e1d6"
      },
      "execution_count": 52,
      "outputs": [
        {
          "output_type": "stream",
          "name": "stdout",
          "text": [
            "(10, 20, 30, 40, 50)\n",
            "10\n",
            "20\n",
            "30\n",
            "\n",
            " ['vermelho', 'verde', 'azul', 'amarelo']\n"
          ]
        }
      ]
    }
  ]
}